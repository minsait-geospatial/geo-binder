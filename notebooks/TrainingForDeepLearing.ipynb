{
 "cells": [
  {
   "cell_type": "markdown",
   "metadata": {},
   "source": [
    "# Basic EO Operations"
   ]
  },
  {
   "cell_type": "code",
   "execution_count": 1,
   "metadata": {},
   "outputs": [],
   "source": [
    "import os\n",
    "os.environ['HTTP_PROXY']=\"\"\n",
    "os.environ['HTTPS_PROXY']=\"\""
   ]
  },
  {
   "cell_type": "code",
   "execution_count": 2,
   "metadata": {},
   "outputs": [],
   "source": [
    "import os\n",
    "import rasterio as rio\n",
    "from rasterio import windows\n",
    "from rasterio.plot import show\n",
    "from rasterio.features import geometry_mask, rasterize\n",
    "import glob\n",
    "from itertools import product\n",
    "from matplotlib import pyplot\n",
    "from shapely.geometry import Polygon\n",
    "import osmnx as ox\n",
    "import matplotlib.pyplot as plt\n",
    "from functools import partial\n",
    "import pyproj\n",
    "from shapely.ops import transform"
   ]
  },
  {
   "cell_type": "code",
   "execution_count": 3,
   "metadata": {},
   "outputs": [],
   "source": [
    "def tiles_image(raster, width, height):\n",
    "    nols, nrows = raster.meta['width'], raster.meta['height']\n",
    "    offsets = product(range(0, nols, width), range(0, nrows, height))\n",
    "    big_window = windows.Window(col_off=0, row_off=0, width=nols, height=nrows)\n",
    "    for col_off, row_off in  offsets:\n",
    "        window =windows.Window(col_off=col_off, row_off=row_off, width=width, height=height).intersection(big_window)\n",
    "        transform_tile = windows.transform(window, raster.transform)\n",
    "        yield window, transform_tile\n",
    "\n",
    "# Si no esta en 4326 convertimos porque osmnx solo acepta lat, lon        \n",
    "def get_building_osm(geom, outfile_bf):\n",
    "    if tile.crs != \"4326\":     \n",
    "        project = partial(pyproj.transform,pyproj.Proj(init='epsg:32611'), pyproj.Proj(init='epsg:4326'))\n",
    "        geom_tile = transform(project, geom)\n",
    "        print (geom_tile)\n",
    "        bfprints= ox.footprints.footprints_from_polygon(geom_tile, footprint_type ='building')        \n",
    "        if not bfprints.empty:\n",
    "            bfprints.drop(['nodes'], axis = 1, inplace=True)\n",
    "            bfprints.to_crs({'init': 'epsg:32611'}, inplace=True)\n",
    "            bfprints.to_file(outfile_bf, driver='GeoJSON')\n",
    "    else: \n",
    "        bfprints= ox.footprints.footprints_from_polygon(geom, footprint_type ='building')\n",
    "        if not bfprints.empty:\n",
    "            bfprints.drop(['nodes'], axis = 1, inplace=True)\n",
    "            bfprints.to_file(outfile_bf, driver='GeoJSON')\n",
    "    return 1"
   ]
  },
  {
   "cell_type": "code",
   "execution_count": null,
   "metadata": {},
   "outputs": [
    {
     "name": "stdout",
     "output_type": "stream",
     "text": [
      "Read Data to Tile\n",
      "POLYGON ((-120.6637832864187 56.2974761465626, -120.6628469632813 56.28769984366632, -120.6452689119959 56.28821919500452, -120.6462007660517 56.29799568879134, -120.6637832864187 56.2974761465626))\n",
      "FileE://Datasets//SN//Train//IMG//Tile0.tif created\n",
      "POLYGON ((-120.6628469632813 56.28769984366632, -120.6619112244567 56.27792351501332, -120.6443376394826 56.278442675558, -120.6452689119959 56.28821919500452, -120.6628469632813 56.28769984366632))\n",
      "FileE://Datasets//SN//Train//IMG//Tile1.tif created\n",
      "POLYGON ((-120.6619112244567 56.27792351501332, -120.6609760694443 56.26814716061028, -120.6434069480137 56.26866613045836, -120.6443376394826 56.278442675558, -120.6619112244567 56.27792351501332))\n",
      "FileE://Datasets//SN//Train//IMG//Tile2.tif created\n",
      "POLYGON ((-120.6609760694443 56.26814716061028, -120.6600414977441 56.25837078046391, -120.6424768370913 56.25888955971225, -120.6434069480137 56.26866613045836, -120.6609760694443 56.26814716061028))\n",
      "FileE://Datasets//SN//Train//IMG//Tile3.tif created\n",
      "POLYGON ((-120.6600414977441 56.25837078046391, -120.6591075088567 56.24859437458089, -120.6415473062184 56.24911296332624, -120.6424768370913 56.25888955971225, -120.6600414977441 56.25837078046391))\n",
      "FileE://Datasets//SN//Train//IMG//Tile4.tif created\n",
      "POLYGON ((-120.6591075088567 56.24859437458089, -120.658676824967 56.24408418399337, -120.6411186780286 56.24460268488593, -120.6415473062184 56.24911296332624, -120.6591075088567 56.24859437458089))\n",
      "FileE://Datasets//SN//Train//IMG//Tile5.tif created\n",
      "POLYGON ((-120.6462007660517 56.29799568879134, -120.6452689119959 56.28821919500452, -120.6296298167798 56.28867914986019, -120.6305576944232 56.29845581271037, -120.6462007660517 56.29799568879134))\n",
      "FileE://Datasets//SN//Train//IMG//Tile6.tif created\n",
      "POLYGON ((-120.6452689119959 56.28821919500452, -120.6443376394826 56.278442675558, -120.6287025182138 56.27890246143624, -120.6296298167798 56.28867914986019, -120.6452689119959 56.28821919500452))\n",
      "FileE://Datasets//SN//Train//IMG//Tile7.tif created\n",
      "POLYGON ((-120.6443376394826 56.278442675558, -120.6434069480137 56.26866613045836, -120.627775798229 56.26912574744505, -120.6287025182138 56.27890246143624, -120.6443376394826 56.278442675558))\n",
      "FileE://Datasets//SN//Train//IMG//Tile8.tif created\n",
      "POLYGON ((-120.6434069480137 56.26866613045836, -120.6424768370913 56.25888955971225, -120.6268496563299 56.25934900789313, -120.627775798229 56.26912574744505, -120.6434069480137 56.26866613045836))\n",
      "FileE://Datasets//SN//Train//IMG//Tile9.tif created\n",
      "POLYGON ((-120.6424768370913 56.25888955971225, -120.6415473062184 56.24911296332624, -120.6259240920214 56.24957224278702, -120.6268496563299 56.25934900789313, -120.6424768370913 56.25888955971225))\n",
      "FileE://Datasets//SN//Train//IMG//Tile10.tif created\n",
      "POLYGON ((-120.6415473062184 56.24911296332624, -120.6411186780286 56.24460268488593, -120.6254972929117 56.24506188653936, -120.6259240920214 56.24957224278702, -120.6415473062184 56.24911296332624))\n"
     ]
    }
   ],
   "source": [
    "out_path = r\"E://Datasets//SN//Train//IMG//\"\n",
    "out_path_b = r\"E://Datasets//SN//Train//Buildings\"\n",
    "tif_ext=\"*.tif\"\n",
    "output_filename = 'Tile{}.tif'\n",
    "output_filename_b = 'Buildings{}.geojson'\n",
    "tile_width, tile_height = 3000, 3000\n",
    "\n",
    "if not os.path.exists(out_path):\n",
    "    os.makedirs(out_path)\n",
    "\n",
    "if not os.path.exists(out_path_b):\n",
    "    os.makedirs(out_path_b)\n",
    "\n",
    "filepath = 'E://Datasets//SN//CapeTown_012545731010_0//012545731010_01_003//012545731010_01//012545731010_01_P001_PSH//20MAY14085945-S3DS_R1C2-012545731010_01_P001.TIF'\n",
    "flag=0\n",
    "print('Read Data to Tile')\n",
    "with rio.open(filepath) as img:\n",
    "    meta = img.meta.copy()\n",
    "    for window, transform_tile in tiles_image(img, tile_width, tile_height):        \n",
    "        #show(img.read(window=window))\n",
    "        meta['transform'] = transform_tile\n",
    "        meta['width'], meta['height'] = window.width, window.height\n",
    "        outfile = os.path.join(out_path,output_filename.format(int(flag)))\n",
    "        outfile_bf = os.path.join(out_path_b,output_filename_b.format(int(flag)))        \n",
    "        with rio.open(outfile, 'w', **meta) as tile:\n",
    "            poly = Polygon([(tile.bounds.left, tile.bounds.top), (tile.bounds.left, tile.bounds.bottom), (tile.bounds.right, tile.bounds.bottom), (tile.bounds.right, tile.bounds.top)])       \n",
    "            get_building_osm(poly, outfile_bf)\n",
    "            tile.write(img.read(window=window))    \n",
    "        print('File'+outfile+' created')\n",
    "        flag=flag+1"
   ]
  }
 ],
 "metadata": {
  "kernelspec": {
   "display_name": "Python 3.7.6 64-bit ('census': conda)",
   "language": "python",
   "name": "python37664bitcensusconda6de06cb7d1124a39a673c8ac5ed43be4"
  },
  "language_info": {
   "codemirror_mode": {
    "name": "ipython",
    "version": 3
   },
   "file_extension": ".py",
   "mimetype": "text/x-python",
   "name": "python",
   "nbconvert_exporter": "python",
   "pygments_lexer": "ipython3",
   "version": "3.7.6"
  },
  "varInspector": {
   "cols": {
    "lenName": 16,
    "lenType": 16,
    "lenVar": 40
   },
   "kernels_config": {
    "python": {
     "delete_cmd_postfix": "",
     "delete_cmd_prefix": "del ",
     "library": "var_list.py",
     "varRefreshCmd": "print(var_dic_list())"
    },
    "r": {
     "delete_cmd_postfix": ") ",
     "delete_cmd_prefix": "rm(",
     "library": "var_list.r",
     "varRefreshCmd": "cat(var_dic_list()) "
    }
   },
   "types_to_exclude": [
    "module",
    "function",
    "builtin_function_or_method",
    "instance",
    "_Feature"
   ],
   "window_display": false
  }
 },
 "nbformat": 4,
 "nbformat_minor": 2
}
